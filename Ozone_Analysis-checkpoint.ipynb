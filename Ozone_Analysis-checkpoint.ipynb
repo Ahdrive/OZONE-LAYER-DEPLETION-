{
 "cells": [
  {
   "cell_type": "markdown",
   "metadata": {
    "id": "-EA-70lj-qnI"
   },
   "source": [
    "# OZONE LAYER DEPLETION ANALYSIS AND PREDICTION USING FB PROPHET"
   ]
  },
  {
   "cell_type": "markdown",
   "metadata": {
    "id": "V7gp1PNONC6m"
   },
   "source": [
    "# Plan of Attack\n",
    " \n",
    "\n",
    "1. Introduction and Installation\n",
    "2. Data Cleaning\n",
    "3. Plotting Dataframe\n",
    "3. Model Fitting\n",
    "4. Making Future Predictions\n",
    "5. Obtaining the Forecasts\n",
    "6. Plotting the Forecasts\n",
    "6. Plotting the Forecast Components\n",
    "7. Cross Validation\n",
    "8. Obtaining the Performance Metrics\n",
    "9. Visualizing Performance Metrics\n"
   ]
  },
  {
   "cell_type": "markdown",
   "metadata": {
    "id": "W8--HU6CNe8U"
   },
   "source": [
    "# 1. Introduction and Installation"
   ]
  },
  {
   "cell_type": "markdown",
   "metadata": {
    "id": "bozDYT3DN5JE"
   },
   "source": [
    "There are very many open source forecastings tools, however none of these would be fit to solve all forecasting problems. Prophet works best with hourly, and weekly data that is several months. When working with Prophet yearly data is most prefered.\n",
    "\n",
    "Prophet can be installed using pip in Python as shown below. Prophet depends on a Python module called pystan. This module will be installed automatically as we install Prophet: pip install prophet"
   ]
  },
  {
   "cell_type": "code",
   "execution_count": null,
   "metadata": {
    "id": "BvBV31uMOL3m"
   },
   "outputs": [],
   "source": []
  },
  {
   "cell_type": "markdown",
   "metadata": {
    "id": "NmQ8tswPOY_r"
   },
   "source": [
    "importing Pandas, Numpy, matplotlib for data manipulation, plotings and Prophet for forecasting. \n",
    "\n",
    "Next we load in our dataset and check its preview from head.\n",
    "\n"
   ]
  },
  {
   "cell_type": "code",
   "execution_count": 155,
   "metadata": {
    "id": "-Ek3R-2ZllLE",
    "scrolled": true
   },
   "outputs": [],
   "source": [
    "import pandas as pd\n",
    "import numpy as np\n",
    "import prophet\n",
    "import matplotlib.pyplot as plt\n"
   ]
  },
  {
   "cell_type": "code",
   "execution_count": 156,
   "metadata": {
    "id": "D9f2CM1MmgOX"
   },
   "outputs": [],
   "source": [
    "df = pd.read_csv(r'Data\\Ozone_data.csv',parse_dates=True)"
   ]
  },
  {
   "cell_type": "markdown",
   "metadata": {
    "id": "Axeuq4_WEWzy"
   },
   "source": [
    "# 2. Data Cleaning"
   ]
  },
  {
   "cell_type": "code",
   "execution_count": 157,
   "metadata": {
    "colab": {
     "base_uri": "https://localhost:8080/",
     "height": 261
    },
    "id": "kd6aIPU1mnqX",
    "outputId": "0dbebaef-d3b9-4cf6-c515-b758fb5bca6e"
   },
   "outputs": [
    {
     "data": {
      "text/html": [
       "<div>\n",
       "<style scoped>\n",
       "    .dataframe tbody tr th:only-of-type {\n",
       "        vertical-align: middle;\n",
       "    }\n",
       "\n",
       "    .dataframe tbody tr th {\n",
       "        vertical-align: top;\n",
       "    }\n",
       "\n",
       "    .dataframe thead th {\n",
       "        text-align: right;\n",
       "    }\n",
       "</style>\n",
       "<table border=\"1\" class=\"dataframe\">\n",
       "  <thead>\n",
       "    <tr style=\"text-align: right;\">\n",
       "      <th></th>\n",
       "      <th>date</th>\n",
       "      <th>h1</th>\n",
       "      <th>h2</th>\n",
       "      <th>h3</th>\n",
       "      <th>h4</th>\n",
       "      <th>h5</th>\n",
       "      <th>h6</th>\n",
       "      <th>h7</th>\n",
       "      <th>h8</th>\n",
       "      <th>h9</th>\n",
       "      <th>...</th>\n",
       "      <th>201-250du</th>\n",
       "      <th>251-300du</th>\n",
       "      <th>301-350du</th>\n",
       "      <th>351-400du</th>\n",
       "      <th>401-450du</th>\n",
       "      <th>451-500du</th>\n",
       "      <th>501-550du</th>\n",
       "      <th>551-600du</th>\n",
       "      <th>601-700du</th>\n",
       "      <th>0-700du</th>\n",
       "    </tr>\n",
       "  </thead>\n",
       "  <tbody>\n",
       "    <tr>\n",
       "      <th>0</th>\n",
       "      <td>1/1/1979</td>\n",
       "      <td>0.00</td>\n",
       "      <td>0.00</td>\n",
       "      <td>0.00</td>\n",
       "      <td>0.00</td>\n",
       "      <td>0.00</td>\n",
       "      <td>0.00</td>\n",
       "      <td>0.00</td>\n",
       "      <td>0.00</td>\n",
       "      <td>0.00</td>\n",
       "      <td>...</td>\n",
       "      <td>0.00</td>\n",
       "      <td>86279.41</td>\n",
       "      <td>38768687.50</td>\n",
       "      <td>21674210.00</td>\n",
       "      <td>8074111.36</td>\n",
       "      <td>917926.67</td>\n",
       "      <td>0.00</td>\n",
       "      <td>0.00</td>\n",
       "      <td>0.00</td>\n",
       "      <td>69521214.94</td>\n",
       "    </tr>\n",
       "    <tr>\n",
       "      <th>1</th>\n",
       "      <td>1/2/1979</td>\n",
       "      <td>0.00</td>\n",
       "      <td>0.00</td>\n",
       "      <td>0.00</td>\n",
       "      <td>0.00</td>\n",
       "      <td>0.00</td>\n",
       "      <td>0.00</td>\n",
       "      <td>0.00</td>\n",
       "      <td>0.00</td>\n",
       "      <td>0.00</td>\n",
       "      <td>...</td>\n",
       "      <td>0.00</td>\n",
       "      <td>14661.76</td>\n",
       "      <td>38583466.07</td>\n",
       "      <td>21503240.00</td>\n",
       "      <td>8430286.36</td>\n",
       "      <td>1182080.00</td>\n",
       "      <td>0.00</td>\n",
       "      <td>0.00</td>\n",
       "      <td>0.00</td>\n",
       "      <td>69713734.20</td>\n",
       "    </tr>\n",
       "    <tr>\n",
       "      <th>2</th>\n",
       "      <td>1/3/1979</td>\n",
       "      <td>0.00</td>\n",
       "      <td>0.00</td>\n",
       "      <td>0.00</td>\n",
       "      <td>0.00</td>\n",
       "      <td>0.00</td>\n",
       "      <td>0.00</td>\n",
       "      <td>0.00</td>\n",
       "      <td>0.00</td>\n",
       "      <td>0.00</td>\n",
       "      <td>...</td>\n",
       "      <td>0.00</td>\n",
       "      <td>191391.18</td>\n",
       "      <td>38323612.50</td>\n",
       "      <td>21306153.33</td>\n",
       "      <td>8419747.73</td>\n",
       "      <td>1620880.00</td>\n",
       "      <td>0.00</td>\n",
       "      <td>0.00</td>\n",
       "      <td>0.00</td>\n",
       "      <td>69861784.74</td>\n",
       "    </tr>\n",
       "    <tr>\n",
       "      <th>3</th>\n",
       "      <td>1/4/1979</td>\n",
       "      <td>?</td>\n",
       "      <td>?</td>\n",
       "      <td>?</td>\n",
       "      <td>?</td>\n",
       "      <td>?</td>\n",
       "      <td>?</td>\n",
       "      <td>?</td>\n",
       "      <td>?</td>\n",
       "      <td>?</td>\n",
       "      <td>...</td>\n",
       "      <td>?</td>\n",
       "      <td>?</td>\n",
       "      <td>?</td>\n",
       "      <td>?</td>\n",
       "      <td>?</td>\n",
       "      <td>?</td>\n",
       "      <td>?</td>\n",
       "      <td>?</td>\n",
       "      <td>?</td>\n",
       "      <td>?</td>\n",
       "    </tr>\n",
       "    <tr>\n",
       "      <th>4</th>\n",
       "      <td>1/5/1979</td>\n",
       "      <td>0.00</td>\n",
       "      <td>0.00</td>\n",
       "      <td>0.00</td>\n",
       "      <td>0.00</td>\n",
       "      <td>0.00</td>\n",
       "      <td>0.00</td>\n",
       "      <td>0.00</td>\n",
       "      <td>0.00</td>\n",
       "      <td>0.00</td>\n",
       "      <td>...</td>\n",
       "      <td>0.00</td>\n",
       "      <td>372132.35</td>\n",
       "      <td>37735732.14</td>\n",
       "      <td>21463181.67</td>\n",
       "      <td>8110063.64</td>\n",
       "      <td>1879853.33</td>\n",
       "      <td>352086.67</td>\n",
       "      <td>0.00</td>\n",
       "      <td>0.00</td>\n",
       "      <td>69913049.80</td>\n",
       "    </tr>\n",
       "  </tbody>\n",
       "</table>\n",
       "<p>5 rows × 175 columns</p>\n",
       "</div>"
      ],
      "text/plain": [
       "       date    h1    h2    h3    h4    h5    h6    h7    h8    h9  ...  \\\n",
       "0  1/1/1979  0.00  0.00  0.00  0.00  0.00  0.00  0.00  0.00  0.00  ...   \n",
       "1  1/2/1979  0.00  0.00  0.00  0.00  0.00  0.00  0.00  0.00  0.00  ...   \n",
       "2  1/3/1979  0.00  0.00  0.00  0.00  0.00  0.00  0.00  0.00  0.00  ...   \n",
       "3  1/4/1979     ?     ?     ?     ?     ?     ?     ?     ?     ?  ...   \n",
       "4  1/5/1979  0.00  0.00  0.00  0.00  0.00  0.00  0.00  0.00  0.00  ...   \n",
       "\n",
       "  201-250du  251-300du    301-350du    351-400du   401-450du   451-500du  \\\n",
       "0      0.00   86279.41  38768687.50  21674210.00  8074111.36   917926.67   \n",
       "1      0.00   14661.76  38583466.07  21503240.00  8430286.36  1182080.00   \n",
       "2      0.00  191391.18  38323612.50  21306153.33  8419747.73  1620880.00   \n",
       "3         ?          ?            ?            ?           ?           ?   \n",
       "4      0.00  372132.35  37735732.14  21463181.67  8110063.64  1879853.33   \n",
       "\n",
       "   501-550du 551-600du 601-700du      0-700du  \n",
       "0       0.00      0.00      0.00  69521214.94  \n",
       "1       0.00      0.00      0.00  69713734.20  \n",
       "2       0.00      0.00      0.00  69861784.74  \n",
       "3          ?         ?         ?            ?  \n",
       "4  352086.67      0.00      0.00  69913049.80  \n",
       "\n",
       "[5 rows x 175 columns]"
      ]
     },
     "execution_count": 157,
     "metadata": {},
     "output_type": "execute_result"
    }
   ],
   "source": [
    "df.head()"
   ]
  },
  {
   "cell_type": "markdown",
   "metadata": {
    "id": "FeMBRHa_8JkS"
   },
   "source": [
    "Now, as we see many missing values in the data in the form, of '?' we need to replace it with NAN values "
   ]
  },
  {
   "cell_type": "code",
   "execution_count": 158,
   "metadata": {
    "id": "bepwc_Gxmq1Q"
   },
   "outputs": [],
   "source": [
    "df.replace({'?':np.nan}, inplace=True)"
   ]
  },
  {
   "cell_type": "code",
   "execution_count": 159,
   "metadata": {
    "colab": {
     "base_uri": "https://localhost:8080/",
     "height": 261
    },
    "id": "aQPR3ZiHxooL",
    "outputId": "ac98b28d-b376-4c2d-ee73-abbed8e99496"
   },
   "outputs": [
    {
     "data": {
      "text/html": [
       "<div>\n",
       "<style scoped>\n",
       "    .dataframe tbody tr th:only-of-type {\n",
       "        vertical-align: middle;\n",
       "    }\n",
       "\n",
       "    .dataframe tbody tr th {\n",
       "        vertical-align: top;\n",
       "    }\n",
       "\n",
       "    .dataframe thead th {\n",
       "        text-align: right;\n",
       "    }\n",
       "</style>\n",
       "<table border=\"1\" class=\"dataframe\">\n",
       "  <thead>\n",
       "    <tr style=\"text-align: right;\">\n",
       "      <th></th>\n",
       "      <th>date</th>\n",
       "      <th>h1</th>\n",
       "      <th>h2</th>\n",
       "      <th>h3</th>\n",
       "      <th>h4</th>\n",
       "      <th>h5</th>\n",
       "      <th>h6</th>\n",
       "      <th>h7</th>\n",
       "      <th>h8</th>\n",
       "      <th>h9</th>\n",
       "      <th>...</th>\n",
       "      <th>201-250du</th>\n",
       "      <th>251-300du</th>\n",
       "      <th>301-350du</th>\n",
       "      <th>351-400du</th>\n",
       "      <th>401-450du</th>\n",
       "      <th>451-500du</th>\n",
       "      <th>501-550du</th>\n",
       "      <th>551-600du</th>\n",
       "      <th>601-700du</th>\n",
       "      <th>0-700du</th>\n",
       "    </tr>\n",
       "  </thead>\n",
       "  <tbody>\n",
       "    <tr>\n",
       "      <th>0</th>\n",
       "      <td>1/1/1979</td>\n",
       "      <td>0.00</td>\n",
       "      <td>0.00</td>\n",
       "      <td>0.00</td>\n",
       "      <td>0.00</td>\n",
       "      <td>0.00</td>\n",
       "      <td>0.00</td>\n",
       "      <td>0.00</td>\n",
       "      <td>0.00</td>\n",
       "      <td>0.00</td>\n",
       "      <td>...</td>\n",
       "      <td>0.00</td>\n",
       "      <td>86279.41</td>\n",
       "      <td>38768687.50</td>\n",
       "      <td>21674210.00</td>\n",
       "      <td>8074111.36</td>\n",
       "      <td>917926.67</td>\n",
       "      <td>0.00</td>\n",
       "      <td>0.00</td>\n",
       "      <td>0.00</td>\n",
       "      <td>69521214.94</td>\n",
       "    </tr>\n",
       "    <tr>\n",
       "      <th>1</th>\n",
       "      <td>1/2/1979</td>\n",
       "      <td>0.00</td>\n",
       "      <td>0.00</td>\n",
       "      <td>0.00</td>\n",
       "      <td>0.00</td>\n",
       "      <td>0.00</td>\n",
       "      <td>0.00</td>\n",
       "      <td>0.00</td>\n",
       "      <td>0.00</td>\n",
       "      <td>0.00</td>\n",
       "      <td>...</td>\n",
       "      <td>0.00</td>\n",
       "      <td>14661.76</td>\n",
       "      <td>38583466.07</td>\n",
       "      <td>21503240.00</td>\n",
       "      <td>8430286.36</td>\n",
       "      <td>1182080.00</td>\n",
       "      <td>0.00</td>\n",
       "      <td>0.00</td>\n",
       "      <td>0.00</td>\n",
       "      <td>69713734.20</td>\n",
       "    </tr>\n",
       "    <tr>\n",
       "      <th>2</th>\n",
       "      <td>1/3/1979</td>\n",
       "      <td>0.00</td>\n",
       "      <td>0.00</td>\n",
       "      <td>0.00</td>\n",
       "      <td>0.00</td>\n",
       "      <td>0.00</td>\n",
       "      <td>0.00</td>\n",
       "      <td>0.00</td>\n",
       "      <td>0.00</td>\n",
       "      <td>0.00</td>\n",
       "      <td>...</td>\n",
       "      <td>0.00</td>\n",
       "      <td>191391.18</td>\n",
       "      <td>38323612.50</td>\n",
       "      <td>21306153.33</td>\n",
       "      <td>8419747.73</td>\n",
       "      <td>1620880.00</td>\n",
       "      <td>0.00</td>\n",
       "      <td>0.00</td>\n",
       "      <td>0.00</td>\n",
       "      <td>69861784.74</td>\n",
       "    </tr>\n",
       "    <tr>\n",
       "      <th>3</th>\n",
       "      <td>1/4/1979</td>\n",
       "      <td>NaN</td>\n",
       "      <td>NaN</td>\n",
       "      <td>NaN</td>\n",
       "      <td>NaN</td>\n",
       "      <td>NaN</td>\n",
       "      <td>NaN</td>\n",
       "      <td>NaN</td>\n",
       "      <td>NaN</td>\n",
       "      <td>NaN</td>\n",
       "      <td>...</td>\n",
       "      <td>NaN</td>\n",
       "      <td>NaN</td>\n",
       "      <td>NaN</td>\n",
       "      <td>NaN</td>\n",
       "      <td>NaN</td>\n",
       "      <td>NaN</td>\n",
       "      <td>NaN</td>\n",
       "      <td>NaN</td>\n",
       "      <td>NaN</td>\n",
       "      <td>NaN</td>\n",
       "    </tr>\n",
       "    <tr>\n",
       "      <th>4</th>\n",
       "      <td>1/5/1979</td>\n",
       "      <td>0.00</td>\n",
       "      <td>0.00</td>\n",
       "      <td>0.00</td>\n",
       "      <td>0.00</td>\n",
       "      <td>0.00</td>\n",
       "      <td>0.00</td>\n",
       "      <td>0.00</td>\n",
       "      <td>0.00</td>\n",
       "      <td>0.00</td>\n",
       "      <td>...</td>\n",
       "      <td>0.00</td>\n",
       "      <td>372132.35</td>\n",
       "      <td>37735732.14</td>\n",
       "      <td>21463181.67</td>\n",
       "      <td>8110063.64</td>\n",
       "      <td>1879853.33</td>\n",
       "      <td>352086.67</td>\n",
       "      <td>0.00</td>\n",
       "      <td>0.00</td>\n",
       "      <td>69913049.80</td>\n",
       "    </tr>\n",
       "  </tbody>\n",
       "</table>\n",
       "<p>5 rows × 175 columns</p>\n",
       "</div>"
      ],
      "text/plain": [
       "       date    h1    h2    h3    h4    h5    h6    h7    h8    h9  ...  \\\n",
       "0  1/1/1979  0.00  0.00  0.00  0.00  0.00  0.00  0.00  0.00  0.00  ...   \n",
       "1  1/2/1979  0.00  0.00  0.00  0.00  0.00  0.00  0.00  0.00  0.00  ...   \n",
       "2  1/3/1979  0.00  0.00  0.00  0.00  0.00  0.00  0.00  0.00  0.00  ...   \n",
       "3  1/4/1979   NaN   NaN   NaN   NaN   NaN   NaN   NaN   NaN   NaN  ...   \n",
       "4  1/5/1979  0.00  0.00  0.00  0.00  0.00  0.00  0.00  0.00  0.00  ...   \n",
       "\n",
       "  201-250du  251-300du    301-350du    351-400du   401-450du   451-500du  \\\n",
       "0      0.00   86279.41  38768687.50  21674210.00  8074111.36   917926.67   \n",
       "1      0.00   14661.76  38583466.07  21503240.00  8430286.36  1182080.00   \n",
       "2      0.00  191391.18  38323612.50  21306153.33  8419747.73  1620880.00   \n",
       "3       NaN        NaN          NaN          NaN         NaN         NaN   \n",
       "4      0.00  372132.35  37735732.14  21463181.67  8110063.64  1879853.33   \n",
       "\n",
       "   501-550du 551-600du 601-700du      0-700du  \n",
       "0       0.00      0.00      0.00  69521214.94  \n",
       "1       0.00      0.00      0.00  69713734.20  \n",
       "2       0.00      0.00      0.00  69861784.74  \n",
       "3        NaN       NaN       NaN          NaN  \n",
       "4  352086.67      0.00      0.00  69913049.80  \n",
       "\n",
       "[5 rows x 175 columns]"
      ]
     },
     "execution_count": 159,
     "metadata": {},
     "output_type": "execute_result"
    }
   ],
   "source": [
    "df.head()"
   ]
  },
  {
   "cell_type": "markdown",
   "metadata": {
    "id": "-xs-Rrv9Z99-"
   },
   "source": [
    "Now replace the NAN values with Forward fill (ffill)"
   ]
  },
  {
   "cell_type": "code",
   "execution_count": 160,
   "metadata": {
    "id": "yE5D26Atm2Gx"
   },
   "outputs": [],
   "source": [
    "df = df.ffill().copy()"
   ]
  },
  {
   "cell_type": "code",
   "execution_count": 161,
   "metadata": {
    "colab": {
     "base_uri": "https://localhost:8080/",
     "height": 261
    },
    "id": "a7E-nBqMnmfo",
    "outputId": "cf878309-1b1c-4e53-96e8-ead212c34f62"
   },
   "outputs": [
    {
     "data": {
      "text/html": [
       "<div>\n",
       "<style scoped>\n",
       "    .dataframe tbody tr th:only-of-type {\n",
       "        vertical-align: middle;\n",
       "    }\n",
       "\n",
       "    .dataframe tbody tr th {\n",
       "        vertical-align: top;\n",
       "    }\n",
       "\n",
       "    .dataframe thead th {\n",
       "        text-align: right;\n",
       "    }\n",
       "</style>\n",
       "<table border=\"1\" class=\"dataframe\">\n",
       "  <thead>\n",
       "    <tr style=\"text-align: right;\">\n",
       "      <th></th>\n",
       "      <th>date</th>\n",
       "      <th>h1</th>\n",
       "      <th>h2</th>\n",
       "      <th>h3</th>\n",
       "      <th>h4</th>\n",
       "      <th>h5</th>\n",
       "      <th>h6</th>\n",
       "      <th>h7</th>\n",
       "      <th>h8</th>\n",
       "      <th>h9</th>\n",
       "      <th>...</th>\n",
       "      <th>201-250du</th>\n",
       "      <th>251-300du</th>\n",
       "      <th>301-350du</th>\n",
       "      <th>351-400du</th>\n",
       "      <th>401-450du</th>\n",
       "      <th>451-500du</th>\n",
       "      <th>501-550du</th>\n",
       "      <th>551-600du</th>\n",
       "      <th>601-700du</th>\n",
       "      <th>0-700du</th>\n",
       "    </tr>\n",
       "  </thead>\n",
       "  <tbody>\n",
       "    <tr>\n",
       "      <th>0</th>\n",
       "      <td>1/1/1979</td>\n",
       "      <td>0.00</td>\n",
       "      <td>0.00</td>\n",
       "      <td>0.00</td>\n",
       "      <td>0.00</td>\n",
       "      <td>0.00</td>\n",
       "      <td>0.00</td>\n",
       "      <td>0.00</td>\n",
       "      <td>0.00</td>\n",
       "      <td>0.00</td>\n",
       "      <td>...</td>\n",
       "      <td>0.00</td>\n",
       "      <td>86279.41</td>\n",
       "      <td>38768687.50</td>\n",
       "      <td>21674210.00</td>\n",
       "      <td>8074111.36</td>\n",
       "      <td>917926.67</td>\n",
       "      <td>0.00</td>\n",
       "      <td>0.00</td>\n",
       "      <td>0.00</td>\n",
       "      <td>69521214.94</td>\n",
       "    </tr>\n",
       "    <tr>\n",
       "      <th>1</th>\n",
       "      <td>1/2/1979</td>\n",
       "      <td>0.00</td>\n",
       "      <td>0.00</td>\n",
       "      <td>0.00</td>\n",
       "      <td>0.00</td>\n",
       "      <td>0.00</td>\n",
       "      <td>0.00</td>\n",
       "      <td>0.00</td>\n",
       "      <td>0.00</td>\n",
       "      <td>0.00</td>\n",
       "      <td>...</td>\n",
       "      <td>0.00</td>\n",
       "      <td>14661.76</td>\n",
       "      <td>38583466.07</td>\n",
       "      <td>21503240.00</td>\n",
       "      <td>8430286.36</td>\n",
       "      <td>1182080.00</td>\n",
       "      <td>0.00</td>\n",
       "      <td>0.00</td>\n",
       "      <td>0.00</td>\n",
       "      <td>69713734.20</td>\n",
       "    </tr>\n",
       "    <tr>\n",
       "      <th>2</th>\n",
       "      <td>1/3/1979</td>\n",
       "      <td>0.00</td>\n",
       "      <td>0.00</td>\n",
       "      <td>0.00</td>\n",
       "      <td>0.00</td>\n",
       "      <td>0.00</td>\n",
       "      <td>0.00</td>\n",
       "      <td>0.00</td>\n",
       "      <td>0.00</td>\n",
       "      <td>0.00</td>\n",
       "      <td>...</td>\n",
       "      <td>0.00</td>\n",
       "      <td>191391.18</td>\n",
       "      <td>38323612.50</td>\n",
       "      <td>21306153.33</td>\n",
       "      <td>8419747.73</td>\n",
       "      <td>1620880.00</td>\n",
       "      <td>0.00</td>\n",
       "      <td>0.00</td>\n",
       "      <td>0.00</td>\n",
       "      <td>69861784.74</td>\n",
       "    </tr>\n",
       "    <tr>\n",
       "      <th>3</th>\n",
       "      <td>1/4/1979</td>\n",
       "      <td>0.00</td>\n",
       "      <td>0.00</td>\n",
       "      <td>0.00</td>\n",
       "      <td>0.00</td>\n",
       "      <td>0.00</td>\n",
       "      <td>0.00</td>\n",
       "      <td>0.00</td>\n",
       "      <td>0.00</td>\n",
       "      <td>0.00</td>\n",
       "      <td>...</td>\n",
       "      <td>0.00</td>\n",
       "      <td>191391.18</td>\n",
       "      <td>38323612.50</td>\n",
       "      <td>21306153.33</td>\n",
       "      <td>8419747.73</td>\n",
       "      <td>1620880.00</td>\n",
       "      <td>0.00</td>\n",
       "      <td>0.00</td>\n",
       "      <td>0.00</td>\n",
       "      <td>69861784.74</td>\n",
       "    </tr>\n",
       "    <tr>\n",
       "      <th>4</th>\n",
       "      <td>1/5/1979</td>\n",
       "      <td>0.00</td>\n",
       "      <td>0.00</td>\n",
       "      <td>0.00</td>\n",
       "      <td>0.00</td>\n",
       "      <td>0.00</td>\n",
       "      <td>0.00</td>\n",
       "      <td>0.00</td>\n",
       "      <td>0.00</td>\n",
       "      <td>0.00</td>\n",
       "      <td>...</td>\n",
       "      <td>0.00</td>\n",
       "      <td>372132.35</td>\n",
       "      <td>37735732.14</td>\n",
       "      <td>21463181.67</td>\n",
       "      <td>8110063.64</td>\n",
       "      <td>1879853.33</td>\n",
       "      <td>352086.67</td>\n",
       "      <td>0.00</td>\n",
       "      <td>0.00</td>\n",
       "      <td>69913049.80</td>\n",
       "    </tr>\n",
       "  </tbody>\n",
       "</table>\n",
       "<p>5 rows × 175 columns</p>\n",
       "</div>"
      ],
      "text/plain": [
       "       date    h1    h2    h3    h4    h5    h6    h7    h8    h9  ...  \\\n",
       "0  1/1/1979  0.00  0.00  0.00  0.00  0.00  0.00  0.00  0.00  0.00  ...   \n",
       "1  1/2/1979  0.00  0.00  0.00  0.00  0.00  0.00  0.00  0.00  0.00  ...   \n",
       "2  1/3/1979  0.00  0.00  0.00  0.00  0.00  0.00  0.00  0.00  0.00  ...   \n",
       "3  1/4/1979  0.00  0.00  0.00  0.00  0.00  0.00  0.00  0.00  0.00  ...   \n",
       "4  1/5/1979  0.00  0.00  0.00  0.00  0.00  0.00  0.00  0.00  0.00  ...   \n",
       "\n",
       "  201-250du  251-300du    301-350du    351-400du   401-450du   451-500du  \\\n",
       "0      0.00   86279.41  38768687.50  21674210.00  8074111.36   917926.67   \n",
       "1      0.00   14661.76  38583466.07  21503240.00  8430286.36  1182080.00   \n",
       "2      0.00  191391.18  38323612.50  21306153.33  8419747.73  1620880.00   \n",
       "3      0.00  191391.18  38323612.50  21306153.33  8419747.73  1620880.00   \n",
       "4      0.00  372132.35  37735732.14  21463181.67  8110063.64  1879853.33   \n",
       "\n",
       "   501-550du 551-600du 601-700du      0-700du  \n",
       "0       0.00      0.00      0.00  69521214.94  \n",
       "1       0.00      0.00      0.00  69713734.20  \n",
       "2       0.00      0.00      0.00  69861784.74  \n",
       "3       0.00      0.00      0.00  69861784.74  \n",
       "4  352086.67      0.00      0.00  69913049.80  \n",
       "\n",
       "[5 rows x 175 columns]"
      ]
     },
     "execution_count": 161,
     "metadata": {},
     "output_type": "execute_result"
    }
   ],
   "source": [
    "df.head()"
   ]
  },
  {
   "cell_type": "markdown",
   "metadata": {
    "id": "KGoxuQN28nAf"
   },
   "source": [
    " Converting the values in numeric form"
   ]
  },
  {
   "cell_type": "code",
   "execution_count": 162,
   "metadata": {
    "id": "7TTEu8eYrwK_"
   },
   "outputs": [],
   "source": [
    "df['0-700du'] = pd.to_numeric(df['0-700du'],errors='coerce')"
   ]
  },
  {
   "cell_type": "markdown",
   "metadata": {
    "id": "uOlNsoXLPmVl"
   },
   "source": [
    "# 3. Ploting Dataframe"
   ]
  },
  {
   "cell_type": "markdown",
   "metadata": {
    "id": "7JRM1baC9GgN"
   },
   "source": [
    "**PLOTING THE DATAFRAME CAN SHOW THE SCENARIO OF DATA WHICH IS IN STATIONARY OR NON STATIONARY FORM**\n",
    "**AS WE SEE THE GRAPH, IT INDICATES THAT DATA IS NON STATIONARY**"
   ]
  },
  {
   "cell_type": "code",
   "execution_count": 163,
   "metadata": {
    "colab": {
     "base_uri": "https://localhost:8080/",
     "height": 293
    },
    "id": "8kzBlQtjnuCF",
    "outputId": "3fbb3860-7056-440a-afcc-c4e652b2ac31"
   },
   "outputs": [
    {
     "data": {
      "text/plain": [
       "<Axes: >"
      ]
     },
     "execution_count": 163,
     "metadata": {},
     "output_type": "execute_result"
    },
    {
     "data": {
      "image/png": "[encoded data removed]",
      "text/plain": [
       "<Figure size 640x480 with 1 Axes>"
      ]
     },
     "metadata": {},
     "output_type": "display_data"
    }
   ],
   "source": [
    "df.plot()"
   ]
  },
  {
   "cell_type": "code",
   "execution_count": null,
   "metadata": {
    "colab": {
     "base_uri": "https://localhost:8080/",
     "height": 293
    },
    "id": "8kzBlQtjnuCF",
    "outputId": "3fbb3860-7056-440a-afcc-c4e652b2ac31"
   },
   "outputs": [],
   "source": []
  },
  {
   "cell_type": "markdown",
   "metadata": {
    "id": "4QzPjtcNP8lJ"
   },
   "source": [
    "Prophet expects the dataset to have two columns named as ds and y. ds is the date column while y is the column that we are forecasting"
   ]
  },
  {
   "cell_type": "code",
   "execution_count": 164,
   "metadata": {
    "id": "JtXHqFmBoQaI"
   },
   "outputs": [],
   "source": [
    "df1 = df[[ 'date', '0-700du']]"
   ]
  },
  {
   "cell_type": "code",
   "execution_count": 165,
   "metadata": {
    "colab": {
     "base_uri": "https://localhost:8080/",
     "height": 195
    },
    "id": "vcVba8p_vf65",
    "outputId": "85906d92-7990-4d0e-979e-e7cde647272f"
   },
   "outputs": [
    {
     "data": {
      "text/html": [
       "<div>\n",
       "<style scoped>\n",
       "    .dataframe tbody tr th:only-of-type {\n",
       "        vertical-align: middle;\n",
       "    }\n",
       "\n",
       "    .dataframe tbody tr th {\n",
       "        vertical-align: top;\n",
       "    }\n",
       "\n",
       "    .dataframe thead th {\n",
       "        text-align: right;\n",
       "    }\n",
       "</style>\n",
       "<table border=\"1\" class=\"dataframe\">\n",
       "  <thead>\n",
       "    <tr style=\"text-align: right;\">\n",
       "      <th></th>\n",
       "      <th>date</th>\n",
       "      <th>0-700du</th>\n",
       "    </tr>\n",
       "  </thead>\n",
       "  <tbody>\n",
       "    <tr>\n",
       "      <th>0</th>\n",
       "      <td>1/1/1979</td>\n",
       "      <td>69521214.94</td>\n",
       "    </tr>\n",
       "    <tr>\n",
       "      <th>1</th>\n",
       "      <td>1/2/1979</td>\n",
       "      <td>69713734.20</td>\n",
       "    </tr>\n",
       "    <tr>\n",
       "      <th>2</th>\n",
       "      <td>1/3/1979</td>\n",
       "      <td>69861784.74</td>\n",
       "    </tr>\n",
       "    <tr>\n",
       "      <th>3</th>\n",
       "      <td>1/4/1979</td>\n",
       "      <td>69861784.74</td>\n",
       "    </tr>\n",
       "    <tr>\n",
       "      <th>4</th>\n",
       "      <td>1/5/1979</td>\n",
       "      <td>69913049.80</td>\n",
       "    </tr>\n",
       "  </tbody>\n",
       "</table>\n",
       "</div>"
      ],
      "text/plain": [
       "       date      0-700du\n",
       "0  1/1/1979  69521214.94\n",
       "1  1/2/1979  69713734.20\n",
       "2  1/3/1979  69861784.74\n",
       "3  1/4/1979  69861784.74\n",
       "4  1/5/1979  69913049.80"
      ]
     },
     "execution_count": 165,
     "metadata": {},
     "output_type": "execute_result"
    }
   ],
   "source": [
    "df1.head()"
   ]
  },
  {
   "cell_type": "code",
   "execution_count": 166,
   "metadata": {
    "colab": {
     "base_uri": "https://localhost:8080/"
    },
    "id": "iUz5veOx1LH9",
    "outputId": "531a0fa9-f21a-4819-ebe5-84a3a49666f6"
   },
   "outputs": [
    {
     "data": {
      "text/plain": [
       "Index(['date', '0-700du'], dtype='object')"
      ]
     },
     "execution_count": 166,
     "metadata": {},
     "output_type": "execute_result"
    }
   ],
   "source": [
    "df1.columns"
   ]
  },
  {
   "cell_type": "code",
   "execution_count": 167,
   "metadata": {
    "id": "MZSoOB7evjIz"
   },
   "outputs": [],
   "source": [
    "df1.columns = [\"ds\", \"y\"]"
   ]
  },
  {
   "cell_type": "code",
   "execution_count": 168,
   "metadata": {
    "colab": {
     "base_uri": "https://localhost:8080/"
    },
    "id": "mwbKyldSzJ5y",
    "outputId": "c6d4116e-61d1-44ca-f4cf-a340fb4d0fba"
   },
   "outputs": [],
   "source": [
    "df1.loc[:, 'ds']=pd.to_datetime(df1['ds'])"
   ]
  },
  {
   "cell_type": "code",
   "execution_count": 169,
   "metadata": {
    "colab": {
     "base_uri": "https://localhost:8080/",
     "height": 195
    },
    "id": "dOIYe2HVzYsv",
    "outputId": "98fe5863-7cd2-4be0-acb3-858e3db9fee9"
   },
   "outputs": [
    {
     "data": {
      "text/html": [
       "<div>\n",
       "<style scoped>\n",
       "    .dataframe tbody tr th:only-of-type {\n",
       "        vertical-align: middle;\n",
       "    }\n",
       "\n",
       "    .dataframe tbody tr th {\n",
       "        vertical-align: top;\n",
       "    }\n",
       "\n",
       "    .dataframe thead th {\n",
       "        text-align: right;\n",
       "    }\n",
       "</style>\n",
       "<table border=\"1\" class=\"dataframe\">\n",
       "  <thead>\n",
       "    <tr style=\"text-align: right;\">\n",
       "      <th></th>\n",
       "      <th>ds</th>\n",
       "      <th>y</th>\n",
       "    </tr>\n",
       "  </thead>\n",
       "  <tbody>\n",
       "    <tr>\n",
       "      <th>0</th>\n",
       "      <td>1979-01-01 00:00:00</td>\n",
       "      <td>69521214.94</td>\n",
       "    </tr>\n",
       "    <tr>\n",
       "      <th>1</th>\n",
       "      <td>1979-01-02 00:00:00</td>\n",
       "      <td>69713734.20</td>\n",
       "    </tr>\n",
       "    <tr>\n",
       "      <th>2</th>\n",
       "      <td>1979-01-03 00:00:00</td>\n",
       "      <td>69861784.74</td>\n",
       "    </tr>\n",
       "    <tr>\n",
       "      <th>3</th>\n",
       "      <td>1979-01-04 00:00:00</td>\n",
       "      <td>69861784.74</td>\n",
       "    </tr>\n",
       "    <tr>\n",
       "      <th>4</th>\n",
       "      <td>1979-01-05 00:00:00</td>\n",
       "      <td>69913049.80</td>\n",
       "    </tr>\n",
       "  </tbody>\n",
       "</table>\n",
       "</div>"
      ],
      "text/plain": [
       "                    ds            y\n",
       "0  1979-01-01 00:00:00  69521214.94\n",
       "1  1979-01-02 00:00:00  69713734.20\n",
       "2  1979-01-03 00:00:00  69861784.74\n",
       "3  1979-01-04 00:00:00  69861784.74\n",
       "4  1979-01-05 00:00:00  69913049.80"
      ]
     },
     "execution_count": 169,
     "metadata": {},
     "output_type": "execute_result"
    }
   ],
   "source": [
    "df1.head()"
   ]
  },
  {
   "cell_type": "code",
   "execution_count": 170,
   "metadata": {
    "colab": {
     "base_uri": "https://localhost:8080/",
     "height": 284
    },
    "id": "VC-jnZf928az",
    "outputId": "4cb6c33f-b302-4c3f-ebc8-b12bf9fb3dc6"
   },
   "outputs": [
    {
     "data": {
      "text/html": [
       "<div>\n",
       "<style scoped>\n",
       "    .dataframe tbody tr th:only-of-type {\n",
       "        vertical-align: middle;\n",
       "    }\n",
       "\n",
       "    .dataframe tbody tr th {\n",
       "        vertical-align: top;\n",
       "    }\n",
       "\n",
       "    .dataframe thead th {\n",
       "        text-align: right;\n",
       "    }\n",
       "</style>\n",
       "<table border=\"1\" class=\"dataframe\">\n",
       "  <thead>\n",
       "    <tr style=\"text-align: right;\">\n",
       "      <th></th>\n",
       "      <th>y</th>\n",
       "    </tr>\n",
       "  </thead>\n",
       "  <tbody>\n",
       "    <tr>\n",
       "      <th>count</th>\n",
       "      <td>1.534100e+04</td>\n",
       "    </tr>\n",
       "    <tr>\n",
       "      <th>mean</th>\n",
       "      <td>6.887724e+07</td>\n",
       "    </tr>\n",
       "    <tr>\n",
       "      <th>std</th>\n",
       "      <td>1.200835e+06</td>\n",
       "    </tr>\n",
       "    <tr>\n",
       "      <th>min</th>\n",
       "      <td>6.608207e+07</td>\n",
       "    </tr>\n",
       "    <tr>\n",
       "      <th>25%</th>\n",
       "      <td>6.791463e+07</td>\n",
       "    </tr>\n",
       "    <tr>\n",
       "      <th>50%</th>\n",
       "      <td>6.879528e+07</td>\n",
       "    </tr>\n",
       "    <tr>\n",
       "      <th>75%</th>\n",
       "      <td>6.966358e+07</td>\n",
       "    </tr>\n",
       "    <tr>\n",
       "      <th>max</th>\n",
       "      <td>7.253104e+07</td>\n",
       "    </tr>\n",
       "  </tbody>\n",
       "</table>\n",
       "</div>"
      ],
      "text/plain": [
       "                  y\n",
       "count  1.534100e+04\n",
       "mean   6.887724e+07\n",
       "std    1.200835e+06\n",
       "min    6.608207e+07\n",
       "25%    6.791463e+07\n",
       "50%    6.879528e+07\n",
       "75%    6.966358e+07\n",
       "max    7.253104e+07"
      ]
     },
     "execution_count": 170,
     "metadata": {},
     "output_type": "execute_result"
    }
   ],
   "source": [
    "df1.describe()"
   ]
  },
  {
   "cell_type": "code",
   "execution_count": 171,
   "metadata": {
    "colab": {
     "base_uri": "https://localhost:8080/"
    },
    "id": "b_zNKcUovuf_",
    "outputId": "52f29c21-c09c-4029-a814-d10bf9d2a254"
   },
   "outputs": [
    {
     "data": {
      "text/plain": [
       "Index(['ds', 'y'], dtype='object')"
      ]
     },
     "execution_count": 171,
     "metadata": {},
     "output_type": "execute_result"
    }
   ],
   "source": [
    "df1.columns"
   ]
  },
  {
   "cell_type": "code",
   "execution_count": 172,
   "metadata": {
    "colab": {
     "base_uri": "https://localhost:8080/",
     "height": 402
    },
    "id": "HUGT87BWvxIo",
    "outputId": "f050c599-19bf-4294-9cb5-4e6b5490af6a"
   },
   "outputs": [
    {
     "name": "stderr",
     "output_type": "stream",
     "text": [
      "C:\\Users\\Owner\\anaconda3\\Lib\\site-packages\\pandas\\core\\indexes\\base.py:7588: FutureWarning: Dtype inference on a pandas object (Series, Index, ExtensionArray) is deprecated. The Index constructor will keep the original dtype in the future. Call `infer_objects` on the result to get the old behavior.\n",
      "  return Index(sequences[0], name=names)\n"
     ]
    },
    {
     "data": {
      "text/plain": [
       "<matplotlib.legend.Legend at 0x2d5f7877020>"
      ]
     },
     "execution_count": 172,
     "metadata": {},
     "output_type": "execute_result"
    },
    {
     "data": {
      "image/png": "[encoded data removed]",
      "text/plain": [
       "<Figure size 1000x600 with 1 Axes>"
      ]
     },
     "metadata": {},
     "output_type": "display_data"
    }
   ],
   "source": [
    "plt.figure(figsize=(10,6))\n",
    "plt.plot(df1.set_index('ds').infer_objects())\n",
    "plt.legend(['y'])"
   ]
  },
  {
   "cell_type": "code",
   "execution_count": 173,
   "metadata": {
    "colab": {
     "base_uri": "https://localhost:8080/",
     "height": 402
    },
    "id": "HUGT87BWvxIo",
    "outputId": "f050c599-19bf-4294-9cb5-4e6b5490af6a"
   },
   "outputs": [
    {
     "data": {
      "text/html": [
       "<div>\n",
       "<style scoped>\n",
       "    .dataframe tbody tr th:only-of-type {\n",
       "        vertical-align: middle;\n",
       "    }\n",
       "\n",
       "    .dataframe tbody tr th {\n",
       "        vertical-align: top;\n",
       "    }\n",
       "\n",
       "    .dataframe thead th {\n",
       "        text-align: right;\n",
       "    }\n",
       "</style>\n",
       "<table border=\"1\" class=\"dataframe\">\n",
       "  <thead>\n",
       "    <tr style=\"text-align: right;\">\n",
       "      <th></th>\n",
       "      <th>ds</th>\n",
       "      <th>y</th>\n",
       "    </tr>\n",
       "  </thead>\n",
       "  <tbody>\n",
       "    <tr>\n",
       "      <th>0</th>\n",
       "      <td>1979-01-01 00:00:00</td>\n",
       "      <td>69521214.94</td>\n",
       "    </tr>\n",
       "    <tr>\n",
       "      <th>1</th>\n",
       "      <td>1979-01-02 00:00:00</td>\n",
       "      <td>69713734.20</td>\n",
       "    </tr>\n",
       "    <tr>\n",
       "      <th>2</th>\n",
       "      <td>1979-01-03 00:00:00</td>\n",
       "      <td>69861784.74</td>\n",
       "    </tr>\n",
       "    <tr>\n",
       "      <th>3</th>\n",
       "      <td>1979-01-04 00:00:00</td>\n",
       "      <td>69861784.74</td>\n",
       "    </tr>\n",
       "    <tr>\n",
       "      <th>4</th>\n",
       "      <td>1979-01-05 00:00:00</td>\n",
       "      <td>69913049.80</td>\n",
       "    </tr>\n",
       "  </tbody>\n",
       "</table>\n",
       "</div>"
      ],
      "text/plain": [
       "                    ds            y\n",
       "0  1979-01-01 00:00:00  69521214.94\n",
       "1  1979-01-02 00:00:00  69713734.20\n",
       "2  1979-01-03 00:00:00  69861784.74\n",
       "3  1979-01-04 00:00:00  69861784.74\n",
       "4  1979-01-05 00:00:00  69913049.80"
      ]
     },
     "execution_count": 173,
     "metadata": {},
     "output_type": "execute_result"
    }
   ],
   "source": [
    "df1.head()"
   ]
  },
  {
   "cell_type": "markdown",
   "metadata": {
    "id": "atcOshSZQNPj"
   },
   "source": [
    "# 4. Model Fitting\n"
   ]
  },
  {
   "cell_type": "markdown",
   "metadata": {
    "id": "ENhjgGYyTe_e"
   },
   "source": [
    "We start by creating an instance of the Prophet class and then fit it to our dataset."
   ]
  },
  {
   "cell_type": "code",
   "execution_count": 174,
   "metadata": {
    "id": "siow2vhdv80i"
   },
   "outputs": [],
   "source": [
    "from prophet import Prophet"
   ]
  },
  {
   "cell_type": "code",
   "execution_count": 175,
   "metadata": {
    "id": "yJkLaNNmwDnt"
   },
   "outputs": [],
   "source": [
    "model = Prophet()"
   ]
  },
  {
   "cell_type": "code",
   "execution_count": 176,
   "metadata": {
    "colab": {
     "base_uri": "https://localhost:8080/"
    },
    "id": "WfZ7d9X1wJBR",
    "outputId": "d0ea2980-2927-4c87-cd74-cef867e891c9"
   },
   "outputs": [
    {
     "name": "stderr",
     "output_type": "stream",
     "text": [
      "05:33:19 - cmdstanpy - INFO - Chain [1] start processing\n",
      "05:33:25 - cmdstanpy - INFO - Chain [1] done processing\n"
     ]
    },
    {
     "data": {
      "text/plain": [
       "<prophet.forecaster.Prophet at 0x2d59f883050>"
      ]
     },
     "execution_count": 176,
     "metadata": {},
     "output_type": "execute_result"
    }
   ],
   "source": [
    "model.fit(df1)"
   ]
  },
  {
   "cell_type": "markdown",
   "metadata": {
    "id": "l8eP7SLqQpNW"
   },
   "source": [
    "# 5. Making Future Predictions"
   ]
  },
  {
   "cell_type": "markdown",
   "metadata": {
    "id": "DOxJbBP-TwGf"
   },
   "source": [
    "The next step is to prepare our model to make future predictions.\n",
    "\n",
    "\n",
    "\n",
    "This is achieved using the Prophet.make_future_dataframe method and passing the number of days we’d like to predict in the future. \n",
    "\n",
    "We use the periods attribute to specify this. This also include the historical dates. We’ll use these historical dates to compare the predictions with the actual values in the ds column."
   ]
  },
  {
   "cell_type": "code",
   "execution_count": 177,
   "metadata": {
    "id": "YYfFldfBwQRx"
   },
   "outputs": [],
   "source": [
    "future_dates = model.make_future_dataframe(periods = 3650)"
   ]
  },
  {
   "cell_type": "code",
   "execution_count": 178,
   "metadata": {
    "colab": {
     "base_uri": "https://localhost:8080/",
     "height": 195
    },
    "id": "CrNcsaDLsJi8",
    "outputId": "9cb5bf8c-59e9-439c-ea11-4d25c4e3a228"
   },
   "outputs": [
    {
     "data": {
      "text/html": [
       "<div>\n",
       "<style scoped>\n",
       "    .dataframe tbody tr th:only-of-type {\n",
       "        vertical-align: middle;\n",
       "    }\n",
       "\n",
       "    .dataframe tbody tr th {\n",
       "        vertical-align: top;\n",
       "    }\n",
       "\n",
       "    .dataframe thead th {\n",
       "        text-align: right;\n",
       "    }\n",
       "</style>\n",
       "<table border=\"1\" class=\"dataframe\">\n",
       "  <thead>\n",
       "    <tr style=\"text-align: right;\">\n",
       "      <th></th>\n",
       "      <th>ds</th>\n",
       "      <th>y</th>\n",
       "    </tr>\n",
       "  </thead>\n",
       "  <tbody>\n",
       "    <tr>\n",
       "      <th>15336</th>\n",
       "      <td>2020-12-27 00:00:00</td>\n",
       "      <td>67360732.38</td>\n",
       "    </tr>\n",
       "    <tr>\n",
       "      <th>15337</th>\n",
       "      <td>2020-12-28 00:00:00</td>\n",
       "      <td>67343688.51</td>\n",
       "    </tr>\n",
       "    <tr>\n",
       "      <th>15338</th>\n",
       "      <td>2020-12-29 00:00:00</td>\n",
       "      <td>67394703.49</td>\n",
       "    </tr>\n",
       "    <tr>\n",
       "      <th>15339</th>\n",
       "      <td>2020-12-30 00:00:00</td>\n",
       "      <td>67511641.75</td>\n",
       "    </tr>\n",
       "    <tr>\n",
       "      <th>15340</th>\n",
       "      <td>2020-12-31 00:00:00</td>\n",
       "      <td>67429389.95</td>\n",
       "    </tr>\n",
       "  </tbody>\n",
       "</table>\n",
       "</div>"
      ],
      "text/plain": [
       "                        ds            y\n",
       "15336  2020-12-27 00:00:00  67360732.38\n",
       "15337  2020-12-28 00:00:00  67343688.51\n",
       "15338  2020-12-29 00:00:00  67394703.49\n",
       "15339  2020-12-30 00:00:00  67511641.75\n",
       "15340  2020-12-31 00:00:00  67429389.95"
      ]
     },
     "execution_count": 178,
     "metadata": {},
     "output_type": "execute_result"
    }
   ],
   "source": [
    "df1.tail()"
   ]
  },
  {
   "cell_type": "code",
   "execution_count": 179,
   "metadata": {
    "colab": {
     "base_uri": "https://localhost:8080/",
     "height": 402
    },
    "id": "KpyvSdQFweM1",
    "outputId": "2fc40f28-8c2c-4b87-84e2-6ac9a69f0aeb"
   },
   "outputs": [
    {
     "data": {
      "text/html": [
       "<div>\n",
       "<style scoped>\n",
       "    .dataframe tbody tr th:only-of-type {\n",
       "        vertical-align: middle;\n",
       "    }\n",
       "\n",
       "    .dataframe tbody tr th {\n",
       "        vertical-align: top;\n",
       "    }\n",
       "\n",
       "    .dataframe thead th {\n",
       "        text-align: right;\n",
       "    }\n",
       "</style>\n",
       "<table border=\"1\" class=\"dataframe\">\n",
       "  <thead>\n",
       "    <tr style=\"text-align: right;\">\n",
       "      <th></th>\n",
       "      <th>ds</th>\n",
       "    </tr>\n",
       "  </thead>\n",
       "  <tbody>\n",
       "    <tr>\n",
       "      <th>0</th>\n",
       "      <td>1979-01-01</td>\n",
       "    </tr>\n",
       "    <tr>\n",
       "      <th>1</th>\n",
       "      <td>1979-01-02</td>\n",
       "    </tr>\n",
       "    <tr>\n",
       "      <th>2</th>\n",
       "      <td>1979-01-03</td>\n",
       "    </tr>\n",
       "    <tr>\n",
       "      <th>3</th>\n",
       "      <td>1979-01-04</td>\n",
       "    </tr>\n",
       "    <tr>\n",
       "      <th>4</th>\n",
       "      <td>1979-01-05</td>\n",
       "    </tr>\n",
       "    <tr>\n",
       "      <th>...</th>\n",
       "      <td>...</td>\n",
       "    </tr>\n",
       "    <tr>\n",
       "      <th>18986</th>\n",
       "      <td>2030-12-25</td>\n",
       "    </tr>\n",
       "    <tr>\n",
       "      <th>18987</th>\n",
       "      <td>2030-12-26</td>\n",
       "    </tr>\n",
       "    <tr>\n",
       "      <th>18988</th>\n",
       "      <td>2030-12-27</td>\n",
       "    </tr>\n",
       "    <tr>\n",
       "      <th>18989</th>\n",
       "      <td>2030-12-28</td>\n",
       "    </tr>\n",
       "    <tr>\n",
       "      <th>18990</th>\n",
       "      <td>2030-12-29</td>\n",
       "    </tr>\n",
       "  </tbody>\n",
       "</table>\n",
       "<p>18991 rows × 1 columns</p>\n",
       "</div>"
      ],
      "text/plain": [
       "              ds\n",
       "0     1979-01-01\n",
       "1     1979-01-02\n",
       "2     1979-01-03\n",
       "3     1979-01-04\n",
       "4     1979-01-05\n",
       "...          ...\n",
       "18986 2030-12-25\n",
       "18987 2030-12-26\n",
       "18988 2030-12-27\n",
       "18989 2030-12-28\n",
       "18990 2030-12-29\n",
       "\n",
       "[18991 rows x 1 columns]"
      ]
     },
     "execution_count": 179,
     "metadata": {},
     "output_type": "execute_result"
    }
   ],
   "source": [
    "future_dates"
   ]
  },
  {
   "cell_type": "markdown",
   "metadata": {
    "id": "pVCxPNv8Qg5I"
   },
   "source": [
    "# 6. Obtaining the Forecasts"
   ]
  },
  {
   "cell_type": "markdown",
   "metadata": {
    "id": "YyA5PveaULzO"
   },
   "source": [
    "We use the predict method to make future predictions. \n",
    "\n",
    "This will generate a dataframe with a **yhat** column that will contain the predictions."
   ]
  },
  {
   "cell_type": "code",
   "execution_count": 180,
   "metadata": {
    "id": "ij5ijc84whDe"
   },
   "outputs": [],
   "source": [
    "prediction = model.predict(future_dates)"
   ]
  },
  {
   "cell_type": "markdown",
   "metadata": {
    "id": "4Hz20D1oUW6F"
   },
   "source": [
    "If we check the head for our forecast dataframe we’ll notice that it has very many columns. \n",
    "\n",
    "However, we are mainly interested in **ds, yhat, yhat_lower** and **yhat_upper**. \n",
    "\n",
    "**yhat** is our predicted forecast, **yhat_lower** is the lower bound for our predictions and **yhat_upper** is the upper bound for our predictions."
   ]
  },
  {
   "cell_type": "code",
   "execution_count": 181,
   "metadata": {
    "colab": {
     "base_uri": "https://localhost:8080/",
     "height": 299
    },
    "id": "E8Si11CEwrrK",
    "outputId": "c545f9b3-266e-44f3-a264-1cb021683844"
   },
   "outputs": [
    {
     "data": {
      "text/html": [
       "<div>\n",
       "<style scoped>\n",
       "    .dataframe tbody tr th:only-of-type {\n",
       "        vertical-align: middle;\n",
       "    }\n",
       "\n",
       "    .dataframe tbody tr th {\n",
       "        vertical-align: top;\n",
       "    }\n",
       "\n",
       "    .dataframe thead th {\n",
       "        text-align: right;\n",
       "    }\n",
       "</style>\n",
       "<table border=\"1\" class=\"dataframe\">\n",
       "  <thead>\n",
       "    <tr style=\"text-align: right;\">\n",
       "      <th></th>\n",
       "      <th>ds</th>\n",
       "      <th>trend</th>\n",
       "      <th>yhat_lower</th>\n",
       "      <th>yhat_upper</th>\n",
       "      <th>trend_lower</th>\n",
       "      <th>trend_upper</th>\n",
       "      <th>additive_terms</th>\n",
       "      <th>additive_terms_lower</th>\n",
       "      <th>additive_terms_upper</th>\n",
       "      <th>weekly</th>\n",
       "      <th>weekly_lower</th>\n",
       "      <th>weekly_upper</th>\n",
       "      <th>yearly</th>\n",
       "      <th>yearly_lower</th>\n",
       "      <th>yearly_upper</th>\n",
       "      <th>multiplicative_terms</th>\n",
       "      <th>multiplicative_terms_lower</th>\n",
       "      <th>multiplicative_terms_upper</th>\n",
       "      <th>yhat</th>\n",
       "    </tr>\n",
       "  </thead>\n",
       "  <tbody>\n",
       "    <tr>\n",
       "      <th>0</th>\n",
       "      <td>1979-01-01</td>\n",
       "      <td>7.124550e+07</td>\n",
       "      <td>6.994474e+07</td>\n",
       "      <td>7.099584e+07</td>\n",
       "      <td>7.124550e+07</td>\n",
       "      <td>7.124550e+07</td>\n",
       "      <td>-791001.843879</td>\n",
       "      <td>-791001.843879</td>\n",
       "      <td>-791001.843879</td>\n",
       "      <td>495.870376</td>\n",
       "      <td>495.870376</td>\n",
       "      <td>495.870376</td>\n",
       "      <td>-791497.714254</td>\n",
       "      <td>-791497.714254</td>\n",
       "      <td>-791497.714254</td>\n",
       "      <td>0.0</td>\n",
       "      <td>0.0</td>\n",
       "      <td>0.0</td>\n",
       "      <td>7.045449e+07</td>\n",
       "    </tr>\n",
       "    <tr>\n",
       "      <th>1</th>\n",
       "      <td>1979-01-02</td>\n",
       "      <td>7.124456e+07</td>\n",
       "      <td>6.995537e+07</td>\n",
       "      <td>7.095859e+07</td>\n",
       "      <td>7.124456e+07</td>\n",
       "      <td>7.124456e+07</td>\n",
       "      <td>-779910.958876</td>\n",
       "      <td>-779910.958876</td>\n",
       "      <td>-779910.958876</td>\n",
       "      <td>-962.227603</td>\n",
       "      <td>-962.227603</td>\n",
       "      <td>-962.227603</td>\n",
       "      <td>-778948.731273</td>\n",
       "      <td>-778948.731273</td>\n",
       "      <td>-778948.731273</td>\n",
       "      <td>0.0</td>\n",
       "      <td>0.0</td>\n",
       "      <td>0.0</td>\n",
       "      <td>7.046465e+07</td>\n",
       "    </tr>\n",
       "    <tr>\n",
       "      <th>2</th>\n",
       "      <td>1979-01-03</td>\n",
       "      <td>7.124363e+07</td>\n",
       "      <td>6.992463e+07</td>\n",
       "      <td>7.099537e+07</td>\n",
       "      <td>7.124363e+07</td>\n",
       "      <td>7.124363e+07</td>\n",
       "      <td>-767079.739871</td>\n",
       "      <td>-767079.739871</td>\n",
       "      <td>-767079.739871</td>\n",
       "      <td>-1155.140376</td>\n",
       "      <td>-1155.140376</td>\n",
       "      <td>-1155.140376</td>\n",
       "      <td>-765924.599495</td>\n",
       "      <td>-765924.599495</td>\n",
       "      <td>-765924.599495</td>\n",
       "      <td>0.0</td>\n",
       "      <td>0.0</td>\n",
       "      <td>0.0</td>\n",
       "      <td>7.047655e+07</td>\n",
       "    </tr>\n",
       "    <tr>\n",
       "      <th>3</th>\n",
       "      <td>1979-01-04</td>\n",
       "      <td>7.124269e+07</td>\n",
       "      <td>6.997584e+07</td>\n",
       "      <td>7.100573e+07</td>\n",
       "      <td>7.124269e+07</td>\n",
       "      <td>7.124269e+07</td>\n",
       "      <td>-752455.596266</td>\n",
       "      <td>-752455.596266</td>\n",
       "      <td>-752455.596266</td>\n",
       "      <td>-11.739148</td>\n",
       "      <td>-11.739148</td>\n",
       "      <td>-11.739148</td>\n",
       "      <td>-752443.857118</td>\n",
       "      <td>-752443.857118</td>\n",
       "      <td>-752443.857118</td>\n",
       "      <td>0.0</td>\n",
       "      <td>0.0</td>\n",
       "      <td>0.0</td>\n",
       "      <td>7.049024e+07</td>\n",
       "    </tr>\n",
       "    <tr>\n",
       "      <th>4</th>\n",
       "      <td>1979-01-05</td>\n",
       "      <td>7.124176e+07</td>\n",
       "      <td>6.998871e+07</td>\n",
       "      <td>7.100134e+07</td>\n",
       "      <td>7.124176e+07</td>\n",
       "      <td>7.124176e+07</td>\n",
       "      <td>-740176.290583</td>\n",
       "      <td>-740176.290583</td>\n",
       "      <td>-740176.290583</td>\n",
       "      <td>-1655.809641</td>\n",
       "      <td>-1655.809641</td>\n",
       "      <td>-1655.809641</td>\n",
       "      <td>-738520.480943</td>\n",
       "      <td>-738520.480943</td>\n",
       "      <td>-738520.480943</td>\n",
       "      <td>0.0</td>\n",
       "      <td>0.0</td>\n",
       "      <td>0.0</td>\n",
       "      <td>7.050158e+07</td>\n",
       "    </tr>\n",
       "  </tbody>\n",
       "</table>\n",
       "</div>"
      ],
      "text/plain": [
       "          ds         trend    yhat_lower    yhat_upper   trend_lower  \\\n",
       "0 1979-01-01  7.124550e+07  6.994474e+07  7.099584e+07  7.124550e+07   \n",
       "1 1979-01-02  7.124456e+07  6.995537e+07  7.095859e+07  7.124456e+07   \n",
       "2 1979-01-03  7.124363e+07  6.992463e+07  7.099537e+07  7.124363e+07   \n",
       "3 1979-01-04  7.124269e+07  6.997584e+07  7.100573e+07  7.124269e+07   \n",
       "4 1979-01-05  7.124176e+07  6.998871e+07  7.100134e+07  7.124176e+07   \n",
       "\n",
       "    trend_upper  additive_terms  additive_terms_lower  additive_terms_upper  \\\n",
       "0  7.124550e+07  -791001.843879        -791001.843879        -791001.843879   \n",
       "1  7.124456e+07  -779910.958876        -779910.958876        -779910.958876   \n",
       "2  7.124363e+07  -767079.739871        -767079.739871        -767079.739871   \n",
       "3  7.124269e+07  -752455.596266        -752455.596266        -752455.596266   \n",
       "4  7.124176e+07  -740176.290583        -740176.290583        -740176.290583   \n",
       "\n",
       "        weekly  weekly_lower  weekly_upper         yearly   yearly_lower  \\\n",
       "0   495.870376    495.870376    495.870376 -791497.714254 -791497.714254   \n",
       "1  -962.227603   -962.227603   -962.227603 -778948.731273 -778948.731273   \n",
       "2 -1155.140376  -1155.140376  -1155.140376 -765924.599495 -765924.599495   \n",
       "3   -11.739148    -11.739148    -11.739148 -752443.857118 -752443.857118   \n",
       "4 -1655.809641  -1655.809641  -1655.809641 -738520.480943 -738520.480943   \n",
       "\n",
       "    yearly_upper  multiplicative_terms  multiplicative_terms_lower  \\\n",
       "0 -791497.714254                   0.0                         0.0   \n",
       "1 -778948.731273                   0.0                         0.0   \n",
       "2 -765924.599495                   0.0                         0.0   \n",
       "3 -752443.857118                   0.0                         0.0   \n",
       "4 -738520.480943                   0.0                         0.0   \n",
       "\n",
       "   multiplicative_terms_upper          yhat  \n",
       "0                         0.0  7.045449e+07  \n",
       "1                         0.0  7.046465e+07  \n",
       "2                         0.0  7.047655e+07  \n",
       "3                         0.0  7.049024e+07  \n",
       "4                         0.0  7.050158e+07  "
      ]
     },
     "execution_count": 181,
     "metadata": {},
     "output_type": "execute_result"
    }
   ],
   "source": [
    "prediction.head()"
   ]
  },
  {
   "cell_type": "code",
   "execution_count": 182,
   "metadata": {
    "colab": {
     "base_uri": "https://localhost:8080/",
     "height": 195
    },
    "id": "0qY2KwAaUzbE",
    "outputId": "5a643d60-31f7-48d1-82ec-d25eef2c2b1d"
   },
   "outputs": [
    {
     "data": {
      "text/html": [
       "<div>\n",
       "<style scoped>\n",
       "    .dataframe tbody tr th:only-of-type {\n",
       "        vertical-align: middle;\n",
       "    }\n",
       "\n",
       "    .dataframe tbody tr th {\n",
       "        vertical-align: top;\n",
       "    }\n",
       "\n",
       "    .dataframe thead th {\n",
       "        text-align: right;\n",
       "    }\n",
       "</style>\n",
       "<table border=\"1\" class=\"dataframe\">\n",
       "  <thead>\n",
       "    <tr style=\"text-align: right;\">\n",
       "      <th></th>\n",
       "      <th>ds</th>\n",
       "      <th>yhat</th>\n",
       "      <th>yhat_lower</th>\n",
       "      <th>yhat_upper</th>\n",
       "    </tr>\n",
       "  </thead>\n",
       "  <tbody>\n",
       "    <tr>\n",
       "      <th>18986</th>\n",
       "      <td>2030-12-25</td>\n",
       "      <td>6.726372e+07</td>\n",
       "      <td>4.848923e+07</td>\n",
       "      <td>8.566773e+07</td>\n",
       "    </tr>\n",
       "    <tr>\n",
       "      <th>18987</th>\n",
       "      <td>2030-12-26</td>\n",
       "      <td>6.727322e+07</td>\n",
       "      <td>4.831135e+07</td>\n",
       "      <td>8.574906e+07</td>\n",
       "    </tr>\n",
       "    <tr>\n",
       "      <th>18988</th>\n",
       "      <td>2030-12-27</td>\n",
       "      <td>6.728063e+07</td>\n",
       "      <td>4.870387e+07</td>\n",
       "      <td>8.568196e+07</td>\n",
       "    </tr>\n",
       "    <tr>\n",
       "      <th>18989</th>\n",
       "      <td>2030-12-28</td>\n",
       "      <td>6.729335e+07</td>\n",
       "      <td>4.857759e+07</td>\n",
       "      <td>8.580053e+07</td>\n",
       "    </tr>\n",
       "    <tr>\n",
       "      <th>18990</th>\n",
       "      <td>2030-12-29</td>\n",
       "      <td>6.730423e+07</td>\n",
       "      <td>4.827155e+07</td>\n",
       "      <td>8.594250e+07</td>\n",
       "    </tr>\n",
       "  </tbody>\n",
       "</table>\n",
       "</div>"
      ],
      "text/plain": [
       "              ds          yhat    yhat_lower    yhat_upper\n",
       "18986 2030-12-25  6.726372e+07  4.848923e+07  8.566773e+07\n",
       "18987 2030-12-26  6.727322e+07  4.831135e+07  8.574906e+07\n",
       "18988 2030-12-27  6.728063e+07  4.870387e+07  8.568196e+07\n",
       "18989 2030-12-28  6.729335e+07  4.857759e+07  8.580053e+07\n",
       "18990 2030-12-29  6.730423e+07  4.827155e+07  8.594250e+07"
      ]
     },
     "execution_count": 182,
     "metadata": {},
     "output_type": "execute_result"
    }
   ],
   "source": [
    "prediction[['ds', 'yhat', 'yhat_lower', 'yhat_upper']].tail()\n"
   ]
  },
  {
   "cell_type": "code",
   "execution_count": 183,
   "metadata": {
    "colab": {
     "base_uri": "https://localhost:8080/",
     "height": 195
    },
    "id": "LSJstVEHU_u3",
    "outputId": "cbe1dacb-3b23-4b86-c012-488651c919db"
   },
   "outputs": [
    {
     "data": {
      "text/html": [
       "<div>\n",
       "<style scoped>\n",
       "    .dataframe tbody tr th:only-of-type {\n",
       "        vertical-align: middle;\n",
       "    }\n",
       "\n",
       "    .dataframe tbody tr th {\n",
       "        vertical-align: top;\n",
       "    }\n",
       "\n",
       "    .dataframe thead th {\n",
       "        text-align: right;\n",
       "    }\n",
       "</style>\n",
       "<table border=\"1\" class=\"dataframe\">\n",
       "  <thead>\n",
       "    <tr style=\"text-align: right;\">\n",
       "      <th></th>\n",
       "      <th>ds</th>\n",
       "      <th>yhat</th>\n",
       "      <th>yhat_lower</th>\n",
       "      <th>yhat_upper</th>\n",
       "    </tr>\n",
       "  </thead>\n",
       "  <tbody>\n",
       "    <tr>\n",
       "      <th>0</th>\n",
       "      <td>1979-01-01</td>\n",
       "      <td>7.045449e+07</td>\n",
       "      <td>6.994474e+07</td>\n",
       "      <td>7.099584e+07</td>\n",
       "    </tr>\n",
       "    <tr>\n",
       "      <th>1</th>\n",
       "      <td>1979-01-02</td>\n",
       "      <td>7.046465e+07</td>\n",
       "      <td>6.995537e+07</td>\n",
       "      <td>7.095859e+07</td>\n",
       "    </tr>\n",
       "    <tr>\n",
       "      <th>2</th>\n",
       "      <td>1979-01-03</td>\n",
       "      <td>7.047655e+07</td>\n",
       "      <td>6.992463e+07</td>\n",
       "      <td>7.099537e+07</td>\n",
       "    </tr>\n",
       "    <tr>\n",
       "      <th>3</th>\n",
       "      <td>1979-01-04</td>\n",
       "      <td>7.049024e+07</td>\n",
       "      <td>6.997584e+07</td>\n",
       "      <td>7.100573e+07</td>\n",
       "    </tr>\n",
       "    <tr>\n",
       "      <th>4</th>\n",
       "      <td>1979-01-05</td>\n",
       "      <td>7.050158e+07</td>\n",
       "      <td>6.998871e+07</td>\n",
       "      <td>7.100134e+07</td>\n",
       "    </tr>\n",
       "  </tbody>\n",
       "</table>\n",
       "</div>"
      ],
      "text/plain": [
       "          ds          yhat    yhat_lower    yhat_upper\n",
       "0 1979-01-01  7.045449e+07  6.994474e+07  7.099584e+07\n",
       "1 1979-01-02  7.046465e+07  6.995537e+07  7.095859e+07\n",
       "2 1979-01-03  7.047655e+07  6.992463e+07  7.099537e+07\n",
       "3 1979-01-04  7.049024e+07  6.997584e+07  7.100573e+07\n",
       "4 1979-01-05  7.050158e+07  6.998871e+07  7.100134e+07"
      ]
     },
     "execution_count": 183,
     "metadata": {},
     "output_type": "execute_result"
    }
   ],
   "source": [
    "prediction[['ds', 'yhat', 'yhat_lower', 'yhat_upper']].head()"
   ]
  },
  {
   "cell_type": "markdown",
   "metadata": {
    "id": "X5Hf9cC5Q9r0"
   },
   "source": [
    "# 7. Plotting the Forecasts"
   ]
  },
  {
   "cell_type": "markdown",
   "metadata": {
    "id": "-jtaWkEOVLwl"
   },
   "source": [
    "Prophet has an inbuilt feature that enables us to plot the forecasts we just generated. \n",
    "\n",
    "This is achieved using model.plot() and passing in our forecasts as the argument. \n",
    "\n",
    "The blue line in the graph represents the predicted values while the black dots represents the data in our dataset."
   ]
  },
  {
   "cell_type": "code",
   "execution_count": 184,
   "metadata": {
    "colab": {
     "base_uri": "https://localhost:8080/",
     "height": 391
    },
    "id": "FKiJwc7OwvV-",
    "outputId": "7b4aa027-7380-4f20-d741-c277267d66c3"
   },
   "outputs": [
    {
     "data": {
      "image/png": "[encoded data removed]",
      "text/plain": [
       "<Figure size 1000x600 with 1 Axes>"
      ]
     },
     "metadata": {},
     "output_type": "display_data"
    }
   ],
   "source": [
    "plot1=model.plot(prediction)"
   ]
  },
  {
   "cell_type": "code",
   "execution_count": 185,
   "metadata": {
    "colab": {
     "base_uri": "https://localhost:8080/",
     "height": 391
    },
    "id": "FKiJwc7OwvV-",
    "outputId": "7b4aa027-7380-4f20-d741-c277267d66c3"
   },
   "outputs": [],
   "source": [
    "plot1.savefig(r'IMG/model_prediction_plot.png', bbox_inches='tight')                "
   ]
  },
  {
   "cell_type": "markdown",
   "metadata": {
    "id": "uYXXqkUqROTY"
   },
   "source": [
    "# 8. Plotting the Forecast Components"
   ]
  },
  {
   "cell_type": "markdown",
   "metadata": {
    "id": "xrmtqZkbVenA"
   },
   "source": [
    "The plot_components method plots the trend, yearly and weekly seasonality of the time series data."
   ]
  },
  {
   "cell_type": "code",
   "execution_count": 186,
   "metadata": {
    "colab": {
     "base_uri": "https://localhost:8080/",
     "height": 657
    },
    "id": "0FonX_HQ4Gza",
    "outputId": "1488e1c5-0456-4e5a-83cb-a14ba5e382c7"
   },
   "outputs": [
    {
     "data": {
      "image/png": "[encoded data removed]",
      "text/plain": [
       "<Figure size 900x900 with 3 Axes>"
      ]
     },
     "metadata": {},
     "output_type": "display_data"
    }
   ],
   "source": [
    "plot2 = model.plot_components(prediction)"
   ]
  },
  {
   "cell_type": "code",
   "execution_count": 187,
   "metadata": {
    "colab": {
     "base_uri": "https://localhost:8080/",
     "height": 657
    },
    "id": "0FonX_HQ4Gza",
    "outputId": "1488e1c5-0456-4e5a-83cb-a14ba5e382c7"
   },
   "outputs": [],
   "source": [
    "plot2.savefig(r'IMG/components_prediction_plot.png', bbox_inches='tight')"
   ]
  },
  {
   "cell_type": "markdown",
   "metadata": {
    "id": "za9Z2kgZRUoN"
   },
   "source": [
    "# 9. Cross VAlaidation"
   ]
  },
  {
   "cell_type": "markdown",
   "metadata": {
    "id": "za9Z2kgZRUoN"
   },
   "source": []
  },
  {
   "cell_type": "markdown",
   "metadata": {
    "id": "okFXYinCV5FS"
   },
   "source": [
    "\n",
    "Next We measure the forecast error using the historical data. We’ll do this by comparing the predicted values with the actual values. \n",
    "\n",
    "In order to perform this operation we select cut of points in the history of the data and fit the model with data upto that cut off point. Afterwards we compare the actual values to the predicted values. The cross_validation method allows us to do this in Prophet. \n",
    "\n",
    "This method take the following parameters as explained below:\n",
    "\n",
    "1. horizon the forecast horizon\n",
    "2. initial the size of the initial training period\n",
    "3. period the spacing between cutoff dates\n",
    "\n",
    "\n",
    "The output of the cross_validation method is a dataframe containing y the true values and yhat the predicted values. We’ll use this dataframe to compute the prediction errors."
   ]
  },
  {
   "cell_type": "code",
   "execution_count": 188,
   "metadata": {
    "id": "ZMVM5FTf5tJ-"
   },
   "outputs": [],
   "source": [
    "from prophet.diagnostics import cross_validation"
   ]
  },
  {
   "cell_type": "code",
   "execution_count": 189,
   "metadata": {
    "id": "P3A_yFR-4UE1"
   },
   "outputs": [
    {
     "data": {
      "application/vnd.jupyter.widget-view+json": {
       "model_id": "75e87574019b4ac6a8c3a8895543ed8b",
       "version_major": 2,
       "version_minor": 0
      },
      "text/plain": [
       "  0%|          | 0/1 [00:00<?, ?it/s]"
      ]
     },
     "metadata": {},
     "output_type": "display_data"
    },
    {
     "name": "stderr",
     "output_type": "stream",
     "text": [
      "05:33:27 - cmdstanpy - INFO - Chain [1] start processing\n",
      "05:33:31 - cmdstanpy - INFO - Chain [1] done processing\n"
     ]
    }
   ],
   "source": [
    "df_cv = cross_validation(model, horizon = '3650 days', period = '1825 days', initial = '10950 days')"
   ]
  },
  {
   "cell_type": "code",
   "execution_count": 190,
   "metadata": {
    "colab": {
     "base_uri": "https://localhost:8080/",
     "height": 195
    },
    "id": "nOgLgL5H5zYg",
    "outputId": "13cc665d-2715-442f-fc21-68d7a0cbe526"
   },
   "outputs": [
    {
     "data": {
      "text/html": [
       "<div>\n",
       "<style scoped>\n",
       "    .dataframe tbody tr th:only-of-type {\n",
       "        vertical-align: middle;\n",
       "    }\n",
       "\n",
       "    .dataframe tbody tr th {\n",
       "        vertical-align: top;\n",
       "    }\n",
       "\n",
       "    .dataframe thead th {\n",
       "        text-align: right;\n",
       "    }\n",
       "</style>\n",
       "<table border=\"1\" class=\"dataframe\">\n",
       "  <thead>\n",
       "    <tr style=\"text-align: right;\">\n",
       "      <th></th>\n",
       "      <th>ds</th>\n",
       "      <th>yhat</th>\n",
       "      <th>yhat_lower</th>\n",
       "      <th>yhat_upper</th>\n",
       "      <th>y</th>\n",
       "      <th>cutoff</th>\n",
       "    </tr>\n",
       "  </thead>\n",
       "  <tbody>\n",
       "    <tr>\n",
       "      <th>0</th>\n",
       "      <td>2011-01-04</td>\n",
       "      <td>6.772523e+07</td>\n",
       "      <td>6.729072e+07</td>\n",
       "      <td>6.815756e+07</td>\n",
       "      <td>67837856.86</td>\n",
       "      <td>2011-01-03</td>\n",
       "    </tr>\n",
       "    <tr>\n",
       "      <th>1</th>\n",
       "      <td>2011-01-05</td>\n",
       "      <td>6.773687e+07</td>\n",
       "      <td>6.732197e+07</td>\n",
       "      <td>6.819287e+07</td>\n",
       "      <td>67822288.28</td>\n",
       "      <td>2011-01-03</td>\n",
       "    </tr>\n",
       "    <tr>\n",
       "      <th>2</th>\n",
       "      <td>2011-01-06</td>\n",
       "      <td>6.775263e+07</td>\n",
       "      <td>6.733435e+07</td>\n",
       "      <td>6.815065e+07</td>\n",
       "      <td>67847226.91</td>\n",
       "      <td>2011-01-03</td>\n",
       "    </tr>\n",
       "    <tr>\n",
       "      <th>3</th>\n",
       "      <td>2011-01-07</td>\n",
       "      <td>6.776590e+07</td>\n",
       "      <td>6.732478e+07</td>\n",
       "      <td>6.818072e+07</td>\n",
       "      <td>67839097.01</td>\n",
       "      <td>2011-01-03</td>\n",
       "    </tr>\n",
       "    <tr>\n",
       "      <th>4</th>\n",
       "      <td>2011-01-08</td>\n",
       "      <td>6.778399e+07</td>\n",
       "      <td>6.735543e+07</td>\n",
       "      <td>6.822895e+07</td>\n",
       "      <td>67791112.83</td>\n",
       "      <td>2011-01-03</td>\n",
       "    </tr>\n",
       "  </tbody>\n",
       "</table>\n",
       "</div>"
      ],
      "text/plain": [
       "          ds          yhat    yhat_lower    yhat_upper            y     cutoff\n",
       "0 2011-01-04  6.772523e+07  6.729072e+07  6.815756e+07  67837856.86 2011-01-03\n",
       "1 2011-01-05  6.773687e+07  6.732197e+07  6.819287e+07  67822288.28 2011-01-03\n",
       "2 2011-01-06  6.775263e+07  6.733435e+07  6.815065e+07  67847226.91 2011-01-03\n",
       "3 2011-01-07  6.776590e+07  6.732478e+07  6.818072e+07  67839097.01 2011-01-03\n",
       "4 2011-01-08  6.778399e+07  6.735543e+07  6.822895e+07  67791112.83 2011-01-03"
      ]
     },
     "execution_count": 190,
     "metadata": {},
     "output_type": "execute_result"
    }
   ],
   "source": [
    "df_cv.head()"
   ]
  },
  {
   "cell_type": "code",
   "execution_count": 191,
   "metadata": {
    "colab": {
     "base_uri": "https://localhost:8080/",
     "height": 195
    },
    "id": "6pEkUSme6COO",
    "outputId": "de3b156a-2245-4760-8664-7f5adfd15372"
   },
   "outputs": [
    {
     "data": {
      "text/html": [
       "<div>\n",
       "<style scoped>\n",
       "    .dataframe tbody tr th:only-of-type {\n",
       "        vertical-align: middle;\n",
       "    }\n",
       "\n",
       "    .dataframe tbody tr th {\n",
       "        vertical-align: top;\n",
       "    }\n",
       "\n",
       "    .dataframe thead th {\n",
       "        text-align: right;\n",
       "    }\n",
       "</style>\n",
       "<table border=\"1\" class=\"dataframe\">\n",
       "  <thead>\n",
       "    <tr style=\"text-align: right;\">\n",
       "      <th></th>\n",
       "      <th>ds</th>\n",
       "      <th>yhat</th>\n",
       "      <th>yhat_lower</th>\n",
       "      <th>yhat_upper</th>\n",
       "      <th>y</th>\n",
       "      <th>cutoff</th>\n",
       "    </tr>\n",
       "  </thead>\n",
       "  <tbody>\n",
       "    <tr>\n",
       "      <th>3645</th>\n",
       "      <td>2020-12-27</td>\n",
       "      <td>6.859960e+07</td>\n",
       "      <td>3.068435e+07</td>\n",
       "      <td>1.080837e+08</td>\n",
       "      <td>67360732.38</td>\n",
       "      <td>2011-01-03</td>\n",
       "    </tr>\n",
       "    <tr>\n",
       "      <th>3646</th>\n",
       "      <td>2020-12-28</td>\n",
       "      <td>6.860547e+07</td>\n",
       "      <td>3.069182e+07</td>\n",
       "      <td>1.080874e+08</td>\n",
       "      <td>67343688.51</td>\n",
       "      <td>2011-01-03</td>\n",
       "    </tr>\n",
       "    <tr>\n",
       "      <th>3647</th>\n",
       "      <td>2020-12-29</td>\n",
       "      <td>6.861466e+07</td>\n",
       "      <td>3.029521e+07</td>\n",
       "      <td>1.078518e+08</td>\n",
       "      <td>67394703.49</td>\n",
       "      <td>2011-01-03</td>\n",
       "    </tr>\n",
       "    <tr>\n",
       "      <th>3648</th>\n",
       "      <td>2020-12-30</td>\n",
       "      <td>6.862328e+07</td>\n",
       "      <td>3.104790e+07</td>\n",
       "      <td>1.079417e+08</td>\n",
       "      <td>67511641.75</td>\n",
       "      <td>2011-01-03</td>\n",
       "    </tr>\n",
       "    <tr>\n",
       "      <th>3649</th>\n",
       "      <td>2020-12-31</td>\n",
       "      <td>6.863601e+07</td>\n",
       "      <td>3.026547e+07</td>\n",
       "      <td>1.082028e+08</td>\n",
       "      <td>67429389.95</td>\n",
       "      <td>2011-01-03</td>\n",
       "    </tr>\n",
       "  </tbody>\n",
       "</table>\n",
       "</div>"
      ],
      "text/plain": [
       "             ds          yhat    yhat_lower    yhat_upper            y  \\\n",
       "3645 2020-12-27  6.859960e+07  3.068435e+07  1.080837e+08  67360732.38   \n",
       "3646 2020-12-28  6.860547e+07  3.069182e+07  1.080874e+08  67343688.51   \n",
       "3647 2020-12-29  6.861466e+07  3.029521e+07  1.078518e+08  67394703.49   \n",
       "3648 2020-12-30  6.862328e+07  3.104790e+07  1.079417e+08  67511641.75   \n",
       "3649 2020-12-31  6.863601e+07  3.026547e+07  1.082028e+08  67429389.95   \n",
       "\n",
       "         cutoff  \n",
       "3645 2011-01-03  \n",
       "3646 2011-01-03  \n",
       "3647 2011-01-03  \n",
       "3648 2011-01-03  \n",
       "3649 2011-01-03  "
      ]
     },
     "execution_count": 191,
     "metadata": {},
     "output_type": "execute_result"
    }
   ],
   "source": [
    "df_cv.tail()"
   ]
  },
  {
   "cell_type": "markdown",
   "metadata": {
    "id": "gQIlR88GRcUa"
   },
   "source": [
    "# 10. Obtaining the Performance Metrics"
   ]
  },
  {
   "cell_type": "markdown",
   "metadata": {
    "id": "yHb-AmnoWSr0"
   },
   "source": [
    "We use the performance_metrics utility to compute the Mean Squared Error(MSE), Root Mean Squared Error(RMSE),Mean Absolute Error(MAE), Mean Absolute Percentage Error(MAPE) and the coverage of the the yhat_lower and yhat_upper estimates."
   ]
  },
  {
   "cell_type": "code",
   "execution_count": 192,
   "metadata": {
    "id": "a44bBCVX6GQd"
   },
   "outputs": [],
   "source": [
    "from prophet.diagnostics import performance_metrics"
   ]
  },
  {
   "cell_type": "code",
   "execution_count": 193,
   "metadata": {
    "id": "fJEr32vd6QfM"
   },
   "outputs": [],
   "source": [
    "df_performance = performance_metrics(df_cv)"
   ]
  },
  {
   "cell_type": "code",
   "execution_count": 194,
   "metadata": {
    "colab": {
     "base_uri": "https://localhost:8080/",
     "height": 402
    },
    "id": "CM9vY7ww6dSW",
    "outputId": "b68242a5-4d07-48c1-b54d-57542ae54308"
   },
   "outputs": [
    {
     "data": {
      "text/html": [
       "<div>\n",
       "<style scoped>\n",
       "    .dataframe tbody tr th:only-of-type {\n",
       "        vertical-align: middle;\n",
       "    }\n",
       "\n",
       "    .dataframe tbody tr th {\n",
       "        vertical-align: top;\n",
       "    }\n",
       "\n",
       "    .dataframe thead th {\n",
       "        text-align: right;\n",
       "    }\n",
       "</style>\n",
       "<table border=\"1\" class=\"dataframe\">\n",
       "  <thead>\n",
       "    <tr style=\"text-align: right;\">\n",
       "      <th></th>\n",
       "      <th>horizon</th>\n",
       "      <th>mse</th>\n",
       "      <th>rmse</th>\n",
       "      <th>mae</th>\n",
       "      <th>mape</th>\n",
       "      <th>mdape</th>\n",
       "      <th>smape</th>\n",
       "      <th>coverage</th>\n",
       "    </tr>\n",
       "  </thead>\n",
       "  <tbody>\n",
       "    <tr>\n",
       "      <th>0</th>\n",
       "      <td>365 days</td>\n",
       "      <td>2.861204e+11</td>\n",
       "      <td>5.349022e+05</td>\n",
       "      <td>4.786758e+05</td>\n",
       "      <td>0.007035</td>\n",
       "      <td>0.006860</td>\n",
       "      <td>0.007004</td>\n",
       "      <td>0.591781</td>\n",
       "    </tr>\n",
       "    <tr>\n",
       "      <th>1</th>\n",
       "      <td>366 days</td>\n",
       "      <td>2.866277e+11</td>\n",
       "      <td>5.353763e+05</td>\n",
       "      <td>4.795859e+05</td>\n",
       "      <td>0.007048</td>\n",
       "      <td>0.006860</td>\n",
       "      <td>0.007018</td>\n",
       "      <td>0.591781</td>\n",
       "    </tr>\n",
       "    <tr>\n",
       "      <th>2</th>\n",
       "      <td>367 days</td>\n",
       "      <td>2.872460e+11</td>\n",
       "      <td>5.359534e+05</td>\n",
       "      <td>4.806743e+05</td>\n",
       "      <td>0.007065</td>\n",
       "      <td>0.006869</td>\n",
       "      <td>0.007034</td>\n",
       "      <td>0.591781</td>\n",
       "    </tr>\n",
       "    <tr>\n",
       "      <th>3</th>\n",
       "      <td>368 days</td>\n",
       "      <td>2.878108e+11</td>\n",
       "      <td>5.364800e+05</td>\n",
       "      <td>4.816857e+05</td>\n",
       "      <td>0.007080</td>\n",
       "      <td>0.006883</td>\n",
       "      <td>0.007049</td>\n",
       "      <td>0.591781</td>\n",
       "    </tr>\n",
       "    <tr>\n",
       "      <th>4</th>\n",
       "      <td>369 days</td>\n",
       "      <td>2.882199e+11</td>\n",
       "      <td>5.368611e+05</td>\n",
       "      <td>4.825627e+05</td>\n",
       "      <td>0.007093</td>\n",
       "      <td>0.006883</td>\n",
       "      <td>0.007062</td>\n",
       "      <td>0.591781</td>\n",
       "    </tr>\n",
       "    <tr>\n",
       "      <th>...</th>\n",
       "      <td>...</td>\n",
       "      <td>...</td>\n",
       "      <td>...</td>\n",
       "      <td>...</td>\n",
       "      <td>...</td>\n",
       "      <td>...</td>\n",
       "      <td>...</td>\n",
       "      <td>...</td>\n",
       "    </tr>\n",
       "    <tr>\n",
       "      <th>3281</th>\n",
       "      <td>3646 days</td>\n",
       "      <td>2.956561e+12</td>\n",
       "      <td>1.719465e+06</td>\n",
       "      <td>1.612770e+06</td>\n",
       "      <td>0.023833</td>\n",
       "      <td>0.027505</td>\n",
       "      <td>0.023514</td>\n",
       "      <td>1.000000</td>\n",
       "    </tr>\n",
       "    <tr>\n",
       "      <th>3282</th>\n",
       "      <td>3647 days</td>\n",
       "      <td>2.960882e+12</td>\n",
       "      <td>1.720721e+06</td>\n",
       "      <td>1.615893e+06</td>\n",
       "      <td>0.023880</td>\n",
       "      <td>0.027505</td>\n",
       "      <td>0.023560</td>\n",
       "      <td>1.000000</td>\n",
       "    </tr>\n",
       "    <tr>\n",
       "      <th>3283</th>\n",
       "      <td>3648 days</td>\n",
       "      <td>2.964869e+12</td>\n",
       "      <td>1.721880e+06</td>\n",
       "      <td>1.618738e+06</td>\n",
       "      <td>0.023922</td>\n",
       "      <td>0.027505</td>\n",
       "      <td>0.023602</td>\n",
       "      <td>1.000000</td>\n",
       "    </tr>\n",
       "    <tr>\n",
       "      <th>3284</th>\n",
       "      <td>3649 days</td>\n",
       "      <td>2.968223e+12</td>\n",
       "      <td>1.722853e+06</td>\n",
       "      <td>1.621487e+06</td>\n",
       "      <td>0.023963</td>\n",
       "      <td>0.027505</td>\n",
       "      <td>0.023643</td>\n",
       "      <td>1.000000</td>\n",
       "    </tr>\n",
       "    <tr>\n",
       "      <th>3285</th>\n",
       "      <td>3650 days</td>\n",
       "      <td>2.972212e+12</td>\n",
       "      <td>1.724010e+06</td>\n",
       "      <td>1.624782e+06</td>\n",
       "      <td>0.024012</td>\n",
       "      <td>0.027505</td>\n",
       "      <td>0.023691</td>\n",
       "      <td>1.000000</td>\n",
       "    </tr>\n",
       "  </tbody>\n",
       "</table>\n",
       "<p>3286 rows × 8 columns</p>\n",
       "</div>"
      ],
      "text/plain": [
       "       horizon           mse          rmse           mae      mape     mdape  \\\n",
       "0     365 days  2.861204e+11  5.349022e+05  4.786758e+05  0.007035  0.006860   \n",
       "1     366 days  2.866277e+11  5.353763e+05  4.795859e+05  0.007048  0.006860   \n",
       "2     367 days  2.872460e+11  5.359534e+05  4.806743e+05  0.007065  0.006869   \n",
       "3     368 days  2.878108e+11  5.364800e+05  4.816857e+05  0.007080  0.006883   \n",
       "4     369 days  2.882199e+11  5.368611e+05  4.825627e+05  0.007093  0.006883   \n",
       "...        ...           ...           ...           ...       ...       ...   \n",
       "3281 3646 days  2.956561e+12  1.719465e+06  1.612770e+06  0.023833  0.027505   \n",
       "3282 3647 days  2.960882e+12  1.720721e+06  1.615893e+06  0.023880  0.027505   \n",
       "3283 3648 days  2.964869e+12  1.721880e+06  1.618738e+06  0.023922  0.027505   \n",
       "3284 3649 days  2.968223e+12  1.722853e+06  1.621487e+06  0.023963  0.027505   \n",
       "3285 3650 days  2.972212e+12  1.724010e+06  1.624782e+06  0.024012  0.027505   \n",
       "\n",
       "         smape  coverage  \n",
       "0     0.007004  0.591781  \n",
       "1     0.007018  0.591781  \n",
       "2     0.007034  0.591781  \n",
       "3     0.007049  0.591781  \n",
       "4     0.007062  0.591781  \n",
       "...        ...       ...  \n",
       "3281  0.023514  1.000000  \n",
       "3282  0.023560  1.000000  \n",
       "3283  0.023602  1.000000  \n",
       "3284  0.023643  1.000000  \n",
       "3285  0.023691  1.000000  \n",
       "\n",
       "[3286 rows x 8 columns]"
      ]
     },
     "execution_count": 194,
     "metadata": {},
     "output_type": "execute_result"
    }
   ],
   "source": [
    "df_performance"
   ]
  },
  {
   "cell_type": "markdown",
   "metadata": {
    "id": "__AQ-8DyRlN4"
   },
   "source": [
    "#11.  Visualizing Performance Metrics"
   ]
  },
  {
   "cell_type": "markdown",
   "metadata": {
    "id": "EO048pyFWeuN"
   },
   "source": [
    "The performance Metrics can be visualized using the plot_cross_validation_metric utility. \n",
    "\n",
    "Here we visualize the RMSE below."
   ]
  },
  {
   "cell_type": "code",
   "execution_count": 195,
   "metadata": {
    "id": "X-iLS8BI6haH"
   },
   "outputs": [],
   "source": [
    "import warnings\n",
    "from prophet.plot import plot_cross_validation_metric"
   ]
  },
  {
   "cell_type": "code",
   "execution_count": 196,
   "metadata": {
    "colab": {
     "base_uri": "https://localhost:8080/",
     "height": 399
    },
    "id": "rQEB1nzF6tCL",
    "outputId": "610d794c-eddf-458d-ffac-417f618b9bce"
   },
   "outputs": [
    {
     "data": {
      "image/png": "[encoded data removed]",
      "text/plain": [
       "<Figure size 1000x600 with 1 Axes>"
      ]
     },
     "metadata": {},
     "output_type": "display_data"
    }
   ],
   "source": [
    "with warnings.catch_warnings():\n",
    "    warnings.filterwarnings(\"ignore\", category=FutureWarning, message=\"Series.view is deprecated\")\n",
    "    fig = plot_cross_validation_metric(df_cv, metric='rmse')"
   ]
  },
  {
   "cell_type": "code",
   "execution_count": 151,
   "metadata": {},
   "outputs": [],
   "source": [
    "fig.savefig(r'IMG/cross_validation_mape_plot.png', bbox_inches='tight')\n"
   ]
  },
  {
   "cell_type": "code",
   "execution_count": null,
   "metadata": {},
   "outputs": [],
   "source": []
  }
 ],
 "metadata": {
  "colab": {
   "name": "new_oz_data.ipynb",
   "provenance": [],
   "toc_visible": true
  },
  "kernelspec": {
   "display_name": "Python 3 (ipykernel)",
   "language": "python",
   "name": "python3"
  },
  "language_info": {
   "codemirror_mode": {
    "name": "ipython",
    "version": 3
   },
   "file_extension": ".py",
   "mimetype": "text/x-python",
   "name": "python",
   "nbconvert_exporter": "python",
   "pygments_lexer": "ipython3",
   "version": "3.12.7"
  }
 },
 "nbformat": 4,
 "nbformat_minor": 4
}
